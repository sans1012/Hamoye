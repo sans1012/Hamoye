{
 "cells": [
  {
   "cell_type": "code",
   "execution_count": 1,
   "id": "db446fee",
   "metadata": {},
   "outputs": [],
   "source": [
    "import pandas as pd\n",
    "import numpy as np\n",
    "import matplotlib.pyplot as plt\n",
    "import seaborn as sns\n",
    "\n",
    "from sklearn.preprocessing import MinMaxScaler\n",
    "from sklearn.model_selection import train_test_split\n",
    "from sklearn.linear_model import LinearRegression, Ridge, Lasso, ElasticNet\n",
    "from sklearn.metrics import mean_squared_error, mean_absolute_error, r2_score"
   ]
  },
  {
   "cell_type": "code",
   "execution_count": null,
   "id": "07f5000f",
   "metadata": {},
   "outputs": [],
   "source": [
    "df=pd.read_excel('https://archive.ics.uci.edu/ml/machine-learning-databases/00242/ENB2012_data.xlsx')"
   ]
  },
  {
   "cell_type": "code",
   "execution_count": null,
   "id": "406c9a57",
   "metadata": {},
   "outputs": [],
   "source": [
    "df"
   ]
  },
  {
   "cell_type": "code",
   "execution_count": null,
   "id": "c26aa92e",
   "metadata": {},
   "outputs": [],
   "source": [
    "df.shape"
   ]
  },
  {
   "cell_type": "code",
   "execution_count": null,
   "id": "cdf86b14",
   "metadata": {},
   "outputs": [],
   "source": [
    "df.columns"
   ]
  },
  {
   "cell_type": "code",
   "execution_count": null,
   "id": "f6ca816e",
   "metadata": {},
   "outputs": [],
   "source": [
    "df.info()"
   ]
  },
  {
   "cell_type": "code",
   "execution_count": null,
   "id": "5d99eb48",
   "metadata": {},
   "outputs": [],
   "source": [
    "df.describe()"
   ]
  },
  {
   "cell_type": "code",
   "execution_count": null,
   "id": "1e96eeb5",
   "metadata": {},
   "outputs": [],
   "source": [
    "col_names={'X1':'Relative_Compactness', \n",
    "           'X2': 'Surface_Area',\n",
    "           'X3': 'Wall_Area', 'X4': 'Roof_Area', 'X5': 'Overall_Height',\n",
    "           'X6': 'Orientation', 'X7': 'Glazing_Area',\n",
    "           'X8': 'Glazing_Area_Distribution',\n",
    "           'Y1': 'Heating_Load', 'Y2': 'Cooling_Load'}\n",
    "df.rename(columns= col_names, inplace=True)\n",
    "df"
   ]
  },
  {
   "cell_type": "code",
   "execution_count": null,
   "id": "a74f9538",
   "metadata": {},
   "outputs": [],
   "source": [
    "simple_linear_reg_df = df[['Relative_Compactness', 'Cooling_Load']].sample(15, random_state=2)"
   ]
  },
  {
   "cell_type": "code",
   "execution_count": null,
   "id": "4e03384c",
   "metadata": {},
   "outputs": [],
   "source": [
    "simple_linear_reg_df2 = df[['Overall_Height',\"Heating_Load\"]].sample(15, random_state=2)"
   ]
  },
  {
   "cell_type": "code",
   "execution_count": null,
   "id": "d453a184",
   "metadata": {
    "scrolled": true
   },
   "outputs": [],
   "source": [
    "sns.regplot(x='Relative_Compactness', y= \"Cooling_Load\", data= simple_linear_reg_df);"
   ]
  },
  {
   "cell_type": "code",
   "execution_count": null,
   "id": "2e0d4718",
   "metadata": {},
   "outputs": [],
   "source": [
    "sns.regplot(x='Overall_Height', y= \"Heating_Load\", data= simple_linear_reg_df2);"
   ]
  },
  {
   "cell_type": "code",
   "execution_count": null,
   "id": "9bfc9c04",
   "metadata": {},
   "outputs": [],
   "source": []
  },
  {
   "cell_type": "code",
   "execution_count": null,
   "id": "991a3647",
   "metadata": {},
   "outputs": [],
   "source": []
  },
  {
   "cell_type": "code",
   "execution_count": null,
   "id": "984e3a91",
   "metadata": {},
   "outputs": [],
   "source": [
    "plt.figure(figsize=(8,8))\n",
    "sns.heatmap(df.corr(),annot= True)"
   ]
  },
  {
   "cell_type": "code",
   "execution_count": null,
   "id": "f29f4bcb",
   "metadata": {},
   "outputs": [],
   "source": [
    "scaler= MinMaxScaler()"
   ]
  },
  {
   "cell_type": "code",
   "execution_count": null,
   "id": "73f5f934",
   "metadata": {},
   "outputs": [],
   "source": [
    "normalised_df= pd.DataFrame(scaler.fit_transform(df), columns= df.columns)"
   ]
  },
  {
   "cell_type": "code",
   "execution_count": null,
   "id": "44a81262",
   "metadata": {},
   "outputs": [],
   "source": [
    "features_df= normalised_df.drop(columns= ['Heating_Load', 'Cooling_Load'])"
   ]
  },
  {
   "cell_type": "code",
   "execution_count": null,
   "id": "aa239a87",
   "metadata": {},
   "outputs": [],
   "source": [
    "heating_target= normalised_df['Heating_Load']"
   ]
  },
  {
   "cell_type": "code",
   "execution_count": null,
   "id": "d19bace7",
   "metadata": {},
   "outputs": [],
   "source": [
    "x_train, x_test, y_train, y_test = train_test_split(features_df, heating_target,\n",
    "test_size=0.3, random_state=1)"
   ]
  },
  {
   "cell_type": "code",
   "execution_count": null,
   "id": "142be004",
   "metadata": {},
   "outputs": [],
   "source": [
    "linear_model= LinearRegression()"
   ]
  },
  {
   "cell_type": "code",
   "execution_count": null,
   "id": "82c617e2",
   "metadata": {},
   "outputs": [],
   "source": [
    "linear_model.fit(x_train, y_train)"
   ]
  },
  {
   "cell_type": "code",
   "execution_count": null,
   "id": "d5513d76",
   "metadata": {},
   "outputs": [],
   "source": [
    "pred_value = linear_model.predict(x_test)"
   ]
  },
  {
   "cell_type": "code",
   "execution_count": null,
   "id": "37eb6fe7",
   "metadata": {},
   "outputs": [],
   "source": [
    "mae = mean_absolute_error(y_test, pred_value)\n",
    "mae=round(mae, 3) "
   ]
  },
  {
   "cell_type": "code",
   "execution_count": null,
   "id": "4f6a12c5",
   "metadata": {},
   "outputs": [],
   "source": [
    "mae"
   ]
  },
  {
   "cell_type": "code",
   "execution_count": null,
   "id": "85e51033",
   "metadata": {},
   "outputs": [],
   "source": [
    "mse = mean_squared_error(y_test, pred_value)\n",
    "mse=round(mse, 3) \n",
    "mse"
   ]
  },
  {
   "cell_type": "code",
   "execution_count": null,
   "id": "2779960e",
   "metadata": {},
   "outputs": [],
   "source": [
    "# residual sum of square\n",
    "rss= np.sum(np.square(y_test-pred_value))\n",
    "round(rss,3)"
   ]
  },
  {
   "cell_type": "code",
   "execution_count": null,
   "id": "6f1be79c",
   "metadata": {},
   "outputs": [],
   "source": [
    "### rmse=np.sqrt(mse)\n",
    "round(rmse,3)"
   ]
  },
  {
   "cell_type": "code",
   "execution_count": 42,
   "id": "f8881c64",
   "metadata": {
    "scrolled": true
   },
   "outputs": [
    {
     "data": {
      "text/plain": [
       "0.894"
      ]
     },
     "execution_count": 42,
     "metadata": {},
     "output_type": "execute_result"
    }
   ],
   "source": [
    "r2= r2_score(y_test, pred_value)\n",
    "round(r2, 3)"
   ]
  },
  {
   "cell_type": "markdown",
   "id": "0cb54cd1",
   "metadata": {},
   "source": [
    "## Ridge Regression"
   ]
  },
  {
   "cell_type": "code",
   "execution_count": 44,
   "id": "225e0b90",
   "metadata": {},
   "outputs": [
    {
     "data": {
      "text/plain": [
       "Ridge(alpha=0.5)"
      ]
     },
     "execution_count": 44,
     "metadata": {},
     "output_type": "execute_result"
    }
   ],
   "source": [
    "ridge_reg= Ridge(alpha=0.5)\n",
    "ridge_reg.fit(x_train, y_train)"
   ]
  },
  {
   "cell_type": "markdown",
   "id": "d54fd756",
   "metadata": {},
   "source": [
    "## Lasso and ElasticNet"
   ]
  },
  {
   "cell_type": "code",
   "execution_count": 47,
   "id": "d26cff94",
   "metadata": {},
   "outputs": [],
   "source": [
    "lasso_reg= Lasso(alpha=0.001)"
   ]
  },
  {
   "cell_type": "code",
   "execution_count": 49,
   "id": "177f1bc0",
   "metadata": {
    "scrolled": true
   },
   "outputs": [
    {
     "data": {
      "text/plain": [
       "Lasso(alpha=0.001)"
      ]
     },
     "execution_count": 49,
     "metadata": {},
     "output_type": "execute_result"
    }
   ],
   "source": [
    "lasso_reg.fit(x_train, y_train)"
   ]
  },
  {
   "cell_type": "code",
   "execution_count": 54,
   "id": "0517b12c",
   "metadata": {},
   "outputs": [
    {
     "data": {
      "text/plain": [
       "ElasticNet(alpha=0.001)"
      ]
     },
     "execution_count": 54,
     "metadata": {},
     "output_type": "execute_result"
    }
   ],
   "source": [
    "regr= ElasticNet(alpha=0.001)\n",
    "regr.fit(x_train, y_train)"
   ]
  },
  {
   "cell_type": "code",
   "execution_count": 62,
   "id": "56eabc03",
   "metadata": {},
   "outputs": [],
   "source": [
    "def get_weights(model, feat, col_name):\n",
    "    weights = pd.Series(model.coef_, feat.columns).sort_values()\n",
    "    weights_df = pd.DataFrame(weights).reset_index()\n",
    "    weights_df.columns = ['Features', col_name]\n",
    "    weights_df[col_name].round(3)\n",
    "    return weights_df"
   ]
  },
  {
   "cell_type": "code",
   "execution_count": 63,
   "id": "58192b77",
   "metadata": {},
   "outputs": [],
   "source": [
    "linear_model_weights= get_weights(linear_model, x_train, \"Linear_Model_Weight\" )\n",
    "ridge_weights_df= get_weights(ridge_reg, x_train, \"Ridge Weight\")\n",
    "lasso_weights_df= get_weights(lasso_reg, x_train, \"Lasso Weight\")\n",
    "elastic_weights_df= get_weights(regr, x_train, \"Elastic Weight\")"
   ]
  },
  {
   "cell_type": "code",
   "execution_count": 64,
   "id": "ca1d75c7",
   "metadata": {},
   "outputs": [],
   "source": [
    "final_weights= pd.merge(linear_model_weights, ridge_weights_df, on='Features')\n",
    "final_weights= pd.merge(final_weights, lasso_weights_df, on= \"Features\")\n",
    "final_weights= pd.merge(final_weights, elastic_weights_df, on='Features')"
   ]
  },
  {
   "cell_type": "code",
   "execution_count": 65,
   "id": "1befe90e",
   "metadata": {},
   "outputs": [
    {
     "data": {
      "text/html": [
       "<div>\n",
       "<style scoped>\n",
       "    .dataframe tbody tr th:only-of-type {\n",
       "        vertical-align: middle;\n",
       "    }\n",
       "\n",
       "    .dataframe tbody tr th {\n",
       "        vertical-align: top;\n",
       "    }\n",
       "\n",
       "    .dataframe thead th {\n",
       "        text-align: right;\n",
       "    }\n",
       "</style>\n",
       "<table border=\"1\" class=\"dataframe\">\n",
       "  <thead>\n",
       "    <tr style=\"text-align: right;\">\n",
       "      <th></th>\n",
       "      <th>Features</th>\n",
       "      <th>Linear_Model_Weight</th>\n",
       "      <th>Ridge Weight</th>\n",
       "      <th>Lasso Weight</th>\n",
       "      <th>Elastic Weight</th>\n",
       "    </tr>\n",
       "  </thead>\n",
       "  <tbody>\n",
       "    <tr>\n",
       "      <th>0</th>\n",
       "      <td>Surface_Area</td>\n",
       "      <td>-2.388039e+12</td>\n",
       "      <td>-0.062275</td>\n",
       "      <td>0.000000</td>\n",
       "      <td>0.000000</td>\n",
       "    </tr>\n",
       "    <tr>\n",
       "      <th>1</th>\n",
       "      <td>Relative_Compactness</td>\n",
       "      <td>-6.064125e-01</td>\n",
       "      <td>-0.283471</td>\n",
       "      <td>-0.027719</td>\n",
       "      <td>-0.069218</td>\n",
       "    </tr>\n",
       "    <tr>\n",
       "      <th>2</th>\n",
       "      <td>Orientation</td>\n",
       "      <td>2.440705e-03</td>\n",
       "      <td>0.003369</td>\n",
       "      <td>0.000000</td>\n",
       "      <td>0.000000</td>\n",
       "    </tr>\n",
       "    <tr>\n",
       "      <th>3</th>\n",
       "      <td>Glazing_Area_Distribution</td>\n",
       "      <td>2.678929e-02</td>\n",
       "      <td>0.029088</td>\n",
       "      <td>0.021431</td>\n",
       "      <td>0.024931</td>\n",
       "    </tr>\n",
       "    <tr>\n",
       "      <th>4</th>\n",
       "      <td>Glazing_Area</td>\n",
       "      <td>2.168792e-01</td>\n",
       "      <td>0.212449</td>\n",
       "      <td>0.206132</td>\n",
       "      <td>0.208971</td>\n",
       "    </tr>\n",
       "    <tr>\n",
       "      <th>5</th>\n",
       "      <td>Overall_Height</td>\n",
       "      <td>3.924579e-01</td>\n",
       "      <td>0.442467</td>\n",
       "      <td>0.463482</td>\n",
       "      <td>0.487470</td>\n",
       "    </tr>\n",
       "    <tr>\n",
       "      <th>6</th>\n",
       "      <td>Wall_Area</td>\n",
       "      <td>1.393023e+12</td>\n",
       "      <td>0.103061</td>\n",
       "      <td>0.200087</td>\n",
       "      <td>0.183070</td>\n",
       "    </tr>\n",
       "    <tr>\n",
       "      <th>7</th>\n",
       "      <td>Roof_Area</td>\n",
       "      <td>1.791029e+12</td>\n",
       "      <td>-0.163192</td>\n",
       "      <td>-0.000000</td>\n",
       "      <td>-0.000000</td>\n",
       "    </tr>\n",
       "  </tbody>\n",
       "</table>\n",
       "</div>"
      ],
      "text/plain": [
       "                    Features  Linear_Model_Weight  Ridge Weight  Lasso Weight  \\\n",
       "0               Surface_Area        -2.388039e+12     -0.062275      0.000000   \n",
       "1       Relative_Compactness        -6.064125e-01     -0.283471     -0.027719   \n",
       "2                Orientation         2.440705e-03      0.003369      0.000000   \n",
       "3  Glazing_Area_Distribution         2.678929e-02      0.029088      0.021431   \n",
       "4               Glazing_Area         2.168792e-01      0.212449      0.206132   \n",
       "5             Overall_Height         3.924579e-01      0.442467      0.463482   \n",
       "6                  Wall_Area         1.393023e+12      0.103061      0.200087   \n",
       "7                  Roof_Area         1.791029e+12     -0.163192     -0.000000   \n",
       "\n",
       "   Elastic Weight  \n",
       "0        0.000000  \n",
       "1       -0.069218  \n",
       "2        0.000000  \n",
       "3        0.024931  \n",
       "4        0.208971  \n",
       "5        0.487470  \n",
       "6        0.183070  \n",
       "7       -0.000000  "
      ]
     },
     "execution_count": 65,
     "metadata": {},
     "output_type": "execute_result"
    }
   ],
   "source": [
    "final_weights"
   ]
  },
  {
   "cell_type": "code",
   "execution_count": null,
   "id": "a0fd71d0",
   "metadata": {},
   "outputs": [],
   "source": []
  }
 ],
 "metadata": {
  "kernelspec": {
   "display_name": "Python 3 (ipykernel)",
   "language": "python",
   "name": "python3"
  },
  "language_info": {
   "codemirror_mode": {
    "name": "ipython",
    "version": 3
   },
   "file_extension": ".py",
   "mimetype": "text/x-python",
   "name": "python",
   "nbconvert_exporter": "python",
   "pygments_lexer": "ipython3",
   "version": "3.9.7"
  }
 },
 "nbformat": 4,
 "nbformat_minor": 5
}
